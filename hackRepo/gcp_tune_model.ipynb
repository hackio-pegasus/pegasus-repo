!pip install openai

AZURE_OPENAI_KEY = "dbbf4df7c341461bb7178c76e5e0e99e"
AZURE_OPENAI_ENDPOINT= "https://dbhackathonai2-openai.openai.azure.com"
DEPLOYMENT_NAME = "gpt-35-turbo"

import os
import requests
import json
import openai

openai.api_key = AZURE_OPENAI_KEY
openai.api_base = AZURE_OPENAI_ENDPOINT
openai.api_type = 'azure'
openai.api_version = '2023-05-15'

def call_openai(*txt):
    messages = []
    for i in range(len(txt)):
        if i % 2 == 0:
            messages.append({"role": "user", "content": txt[i]})
        else:
            messages.append({"role": "system", "content": txt[i]})
        # messages = [
        #     {"role":"system","content":"You are an AI assistant that helps people find information."},
        #     {"role":"user","content": txt}
        # ],
    response = openai.ChatCompletion.create(
        engine="gpt-35-turbo",
        messages=messages,
        temperature=0.7,
        max_tokens=3130,
        top_p=0.95,
        frequency_penalty=0,
        presence_penalty=0,
        stop=None
    )
    text = response['choices'][0]['message']['content'].strip()
    return text
	
#!git clone https://github.com/derickfelix/BankApplication.git
#!git clone https://github.com/hackio-pegasus/pegasus-repo.git
def get_all_files(directory):
    file_list = []
    dict = {}
    final_dict = {}
    for root, dirs, files in os.walk(directory):
        dirs[:] = [d for d in dirs if not "." in d]
        files = [ file for file in files if file.endswith(('.java')) ]
        for file in files:
            print("for file: ", file)
            with open(os.path.join(root, file), 'r') as f:
                print("opened file ", file)
                cont = f.read()

                prompt1 = f"Read this code and count the lines: \n{cont}"
                response1 = call_openai(prompt1)
                prompt2 = "List the tables (or resources) it is reading from each database (or rest api) along with target database (or rest api)."
                response2 = call_openai(prompt1, response1, prompt2)
                prompt3 = "Represent the data flow as a graph data structure such that database name (or rest api name) are nodes and table names (or resource name) are edges in the graph."
                response3 = call_openai(prompt1, response1, prompt2, response2, prompt3)
                prompt4 = "Represent this in cytoscape js json format."
                response4 = call_openai(prompt1, response1, prompt2, response2, prompt3, response3, prompt4)

                # print(response)
                final_dict[file] = response4
    return final_dict
            #file_list.append(os.path.join(root, file))
    # return dict

# Example usage:

directory_path = 'pegasus-repo'
dict = get_all_files(directory_path)
print(dict)
json_object = json.dumps(dict, indent = 4) 
response = call_openai("read this json files and have created the below data. This contains inbound and outbound connection details in json format. Could you parse this file and generate output in Cytoscope js json format. Consider Databases, HTTP connections as nodes and tables as edges." + json_object)

cyto_data = response[58:-4]
print("---------------------------------------------")
print(cyto_data)

#print("Updated Dict is: ", dict)
# json_object = json.dumps(dict, indent = 4) 
# print(json_object)


#response = call_openai("in the below json, key is the filename and value is the content of the file. Please read these files and tell me how the data is flowing." + json_object)
#print(response)

# Print the list of files
#for file in files:
#    print(file)

!pip install dash-cytoscape

cyto_data = response[58:-4]

from dash import Dash, html
import dash_cytoscape as cyto

app = Dash(__name__)
app.layout = \
  html.Div\
  ([
    cyto.Cytoscape\
    (
      id="Dataflow Viewer",
      layout={"name": "circle", "directed": True},
      style={"width": "100%", "height": "400px"},
      elements=cyto_data
    )
  ])

app.run(debug=True)